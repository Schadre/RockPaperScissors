{
 "cells": [
  {
   "cell_type": "code",
   "execution_count": 7,
   "id": "fa383293",
   "metadata": {},
   "outputs": [
    {
     "name": "stdout",
     "output_type": "stream",
     "text": [
      "Rock, Paper, or Scissors? [quit]rock\n",
      "You chose rock and the computer chose Rock.\n",
      "It's a tie!\n",
      "Rock, Paper, or Scissors? [quit]paper\n",
      "You chose paper and the computer chose Scissors.\n",
      "You lose, try again!\n",
      "Rock, Paper, or Scissors? [quit]paper\n",
      "You chose paper and the computer chose Scissors.\n",
      "You lose, try again!\n",
      "Rock, Paper, or Scissors? [quit]paper\n",
      "You chose paper and the computer chose Paper.\n",
      "It's a tie!\n",
      "Rock, Paper, or Scissors? [quit]rock\n",
      "You chose rock and the computer chose Rock.\n",
      "It's a tie!\n",
      "Rock, Paper, or Scissors? [quit]rock\n",
      "You chose rock and the computer chose Scissors.\n",
      "You win!\n",
      "Rock, Paper, or Scissors? [quit]quit\n",
      "You chose quit and the computer chose Scissors.\n",
      "Thank you for playing with me.\n"
     ]
    }
   ],
   "source": [
    "import random\n",
    "\n",
    "def rockpaperscissors():\n",
    "    while True:\n",
    "        player = input(\"Rock, Paper, or Scissors? [quit]\")\n",
    "        choices = [\"Rock\", \"Paper\", \"Scissors\"]\n",
    "        computer = random.choice(choices)\n",
    "        print(f'You chose {player} and the computer chose {computer}.')\n",
    "        \n",
    "\n",
    "        if player.lower() == \"quit\":\n",
    "            print(\"Thank you for playing with me.\")\n",
    "            break\n",
    "        elif player.lower() == computer.lower():\n",
    "            print(\"It's a tie!\")\n",
    "        elif player.lower() == \"rock\":\n",
    "            if computer.lower() == \"scissors\":\n",
    "                print(\"You win!\")\n",
    "            else:\n",
    "                print(\"You lose, try again!\")\n",
    "        elif player.lower() == \"scissors\":\n",
    "            if computer.lower() == \"paper\":\n",
    "                print(\"You win!\")\n",
    "            else:\n",
    "                print(\"You lose, try again!\")\n",
    "        elif player.lower() == \"paper\":\n",
    "            if computer.lower() == \"rock\":\n",
    "                print(\"You win!\")\n",
    "            else:\n",
    "                print(\"You lose, try again!\")\n",
    "        else:\n",
    "            print(\"Invalid Input.\")\n",
    "\n",
    "rockpaperscissors()"
   ]
  }
 ],
 "metadata": {
  "kernelspec": {
   "display_name": "Python 3.10.5 64-bit",
   "language": "python",
   "name": "python3"
  },
  "language_info": {
   "codemirror_mode": {
    "name": "ipython",
    "version": 3
   },
   "file_extension": ".py",
   "mimetype": "text/x-python",
   "name": "python",
   "nbconvert_exporter": "python",
   "pygments_lexer": "ipython3",
   "version": "3.10.5"
  },
  "vscode": {
   "interpreter": {
    "hash": "7e1998ff7f8aa20ada591c520b972326324e5ea05489af9e422744c7c09f6dad"
   }
  }
 },
 "nbformat": 4,
 "nbformat_minor": 5
}
